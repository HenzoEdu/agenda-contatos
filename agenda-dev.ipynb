{
 "cells": [
  {
   "cell_type": "markdown",
   "id": "57772c59",
   "metadata": {},
   "source": [
    "# 📒 Projeto: Agenda de Contatos (Terminal App)\n",
    "\n",
    "Este projeto é uma **aplicação simples de agenda de contatos**, desenvolvida com Python, que funciona totalmente via **linha de comando (terminal)**. Ele foi construído com foco no aprendizado prático de estruturas de controle, funções, manipulação de arquivos `.json` e organização de código.\n",
    "\n",
    "## 🎯 Objetivo\n",
    "\n",
    "Permitir ao usuário:\n",
    "\n",
    "- Criar uma nova lista de contatos\n",
    "- Adicionar, remover, visualizar e pesquisar contatos\n",
    "- Salvar e carregar listas de contatos a partir de arquivos `.json`\n",
    "- Utilizar o programa de forma interativa via menu no terminal\n",
    "\n",
    "## 🛠️ Tecnologias e Bibliotecas Usadas\n",
    "\n",
    "- Python 3\n",
    "- `json` – para salvar/carregar dados\n",
    "- `os` – para limpar o terminal\n",
    "- `time` – para controlar pausas e timers no programa\n",
    "\n",
    "## 📚 Estrutura do Projeto\n",
    "\n",
    "O código está dividido em células, com cada célula representando uma função ou parte do programa. Isso permite que você entenda e teste cada etapa do desenvolvimento separadamente.\n",
    "\n",
    "---\n",
    "\n",
    "💡 **Nota:** Este notebook não possui explicações teóricas detalhadas. A ideia é que você explore o código por conta própria, testando e modificando à medida que aprende.\n",
    "\n",
    "Boa exploração! 🚀\n"
   ]
  },
  {
   "cell_type": "markdown",
   "id": "9569946b",
   "metadata": {},
   "source": [
    "### 🧱 Estrutura inicial do projeto"
   ]
  },
  {
   "cell_type": "markdown",
   "id": "30e3f09e",
   "metadata": {},
   "source": [
    "1. Importação de Bibliotecas e Inicialização"
   ]
  },
  {
   "cell_type": "code",
   "execution_count": null,
   "id": "b7681a98",
   "metadata": {},
   "outputs": [],
   "source": [
    "import json\n",
    "import os\n",
    "import time"
   ]
  },
  {
   "cell_type": "markdown",
   "id": "f1be7b92",
   "metadata": {},
   "source": [
    "2. Estrutura Base das Funções (Esqueleto)"
   ]
  },
  {
   "cell_type": "code",
   "execution_count": null,
   "id": "aa3e2066",
   "metadata": {},
   "outputs": [],
   "source": [
    "def adicionar_contato(contatos, nome_contato, numero_telefone, email_contato):\n",
    "    pass\n",
    "\n",
    "def remover_contato(contatos, nome_contato):\n",
    "    pass\n",
    "\n",
    "def visualizar_contatos(contatos):\n",
    "    pass\n",
    "\n",
    "def pesquisar_contatos(contatos, nome_contato):\n",
    "    pass\n",
    "\n",
    "def salvar_lista_contatos(contatos, nome_da_lista_para_ser_salva):\n",
    "    pass\n",
    "\n",
    "def carregar_lista_contatos(nome_da_lista_a_ser_carregada):\n",
    "    pass\n",
    "\n",
    "def gerenciar_contatos(contatos, nome_arquivo=None):\n",
    "    pass\n",
    "\n",
    "def main():\n",
    "    pass"
   ]
  },
  {
   "cell_type": "markdown",
   "id": "9eac624b",
   "metadata": {},
   "source": [
    "### 🔧 Implementações das Funções"
   ]
  },
  {
   "cell_type": "markdown",
   "id": "226fec7a",
   "metadata": {},
   "source": [
    "Cada uma dessas células conterá o código completo da função específica, com seu nome como título da célula:"
   ]
  },
  {
   "cell_type": "markdown",
   "id": "34a8fa3a",
   "metadata": {},
   "source": [
    "3. Função: adicionar_contato()"
   ]
  },
  {
   "cell_type": "code",
   "execution_count": null,
   "id": "e24e4c92",
   "metadata": {},
   "outputs": [],
   "source": [
    "def adicionar_contato(contatos, nome_contato, numero_telefone, email_contato):\n",
    "    contatos[nome_contato] = {\"telefone\" : numero_telefone, \"email\" : email_contato}"
   ]
  },
  {
   "cell_type": "markdown",
   "id": "316be979",
   "metadata": {},
   "source": [
    "4. Função: remover_contato()"
   ]
  },
  {
   "cell_type": "code",
   "execution_count": null,
   "id": "f2a7a957",
   "metadata": {},
   "outputs": [],
   "source": [
    "def remover_contato(contatos, nome_contato):\n",
    "    try:\n",
    "        del contatos[nome_contato]\n",
    "        return True\n",
    "    except KeyError:\n",
    "        print(\"Não é possível deletar um contato inexistente!\")\n",
    "        return False"
   ]
  },
  {
   "cell_type": "markdown",
   "id": "69520540",
   "metadata": {},
   "source": [
    "5. Função: visualizar_contatos()"
   ]
  },
  {
   "cell_type": "code",
   "execution_count": null,
   "id": "91abae9d",
   "metadata": {},
   "outputs": [],
   "source": [
    "def visualizar_contatos(contatos):\n",
    "    for contato in contatos:\n",
    "        print(f'{contato}: {contatos[contato]}')\n",
    "        print()\n"
   ]
  },
  {
   "cell_type": "markdown",
   "id": "ec6bbbd7",
   "metadata": {},
   "source": [
    "6. Função: pesquisar_contatos()"
   ]
  },
  {
   "cell_type": "code",
   "execution_count": null,
   "id": "8997a493",
   "metadata": {},
   "outputs": [],
   "source": [
    "def pesquisar_contatos(contatos, nome_contato):\n",
    "    nome_contato = nome_contato.lower()\n",
    "    contato_encontrado = False\n",
    "    for contato in contatos:\n",
    "        contato2 = contato.lower()\n",
    "        if nome_contato in contato2:\n",
    "           print({contato : contatos[contato]})\n",
    "           contato_encontrado = True\n",
    "           break\n",
    "    if contato_encontrado == False:\n",
    "        print(\"Contato não encontrado!\")"
   ]
  },
  {
   "cell_type": "markdown",
   "id": "a8482ce3",
   "metadata": {},
   "source": [
    "7. Função: salvar_lista_contatos"
   ]
  },
  {
   "cell_type": "code",
   "execution_count": null,
   "id": "e3494ced",
   "metadata": {},
   "outputs": [],
   "source": [
    "def salvar_lista_contatos(contatos, nome_da_lista_para_ser_salva):\n",
    "    with open(f'{nome_da_lista_para_ser_salva}', 'w') as arquivo:\n",
    "        json.dump(contatos, arquivo, indent=4)\n"
   ]
  },
  {
   "cell_type": "markdown",
   "id": "6bc4a265",
   "metadata": {},
   "source": [
    "8. Função: carregar_lista_contatos()"
   ]
  },
  {
   "cell_type": "code",
   "execution_count": null,
   "id": "d94e9635",
   "metadata": {},
   "outputs": [],
   "source": [
    "def carregar_lista_contatos(nome_da_lista_a_ser_carregada):\n",
    "    with open(f'{nome_da_lista_a_ser_carregada}', 'r') as arquivo:\n",
    "        return json.load(arquivo)"
   ]
  },
  {
   "cell_type": "markdown",
   "id": "d26fd272",
   "metadata": {},
   "source": [
    "?. Função: easter_egg()"
   ]
  },
  {
   "cell_type": "code",
   "execution_count": null,
   "id": "9b0a31d3",
   "metadata": {},
   "outputs": [],
   "source": [
    "def easter_egg(entrada):\n",
    "    if entrada.strip().lower() == \"o dev do app é um gostoso\":\n",
    "        print(\"Muito obrigado pelo elogio, isso é uma completa verdade incontestável e absoluta!!\")\n",
    "        print(\"Pressione Enter para continuar...\")\n",
    "        input()\n",
    "        return True\n",
    "    return False"
   ]
  },
  {
   "cell_type": "markdown",
   "id": "def02260",
   "metadata": {},
   "source": [
    "9. Função: gerenciar_contatos() – Menu de Ações"
   ]
  },
  {
   "cell_type": "code",
   "execution_count": null,
   "id": "ddee0897",
   "metadata": {},
   "outputs": [],
   "source": [
    "def gerenciar_contatos(contatos, nome_arquivo=None):\n",
    "    while True:\n",
    "        os.system(\"cls\" if os.name == 'nt' else \"clear\")\n",
    "        print(\"\"\"- 1 Adicionar contato\n",
    "- 2 Remover contato\n",
    "- 3 Visualizar lista de contatos\n",
    "- 4 Pesquisar contato\n",
    "- 5 Salvar e sair\n",
    "- 6 Sair sem salvar\"\"\")\n",
    "        escolha = str(input('-Insira uma opção: '))\n",
    "        if easter_egg(escolha):\n",
    "            continue\n",
    "\n",
    "        if escolha == '1':\n",
    "            nome_contato = input('Digite o nome do contato:')\n",
    "            numero_telefone = str(input('Digite o número de telefone de seu contato:'))\n",
    "            email = str(input(\"Insira o email de seu contato:\"))\n",
    "            adicionar_contato(contatos, nome_contato, numero_telefone, email)\n",
    "            print(\"Contato adicionado com sucesso!\")\n",
    "            print()\n",
    "            print(\"Aperte enter para continuar\")\n",
    "            input()\n",
    "\n",
    "        elif escolha =='2':\n",
    "            nome_contato = input('Digite o nome do contato:')\n",
    "            sucesso = remover_contato(contatos, nome_contato)\n",
    "            if sucesso:\n",
    "                print(\"Contato removido com sucesso!\")\n",
    "            print()\n",
    "            print(\"Aperte enter para continuar\")\n",
    "            input()\n",
    "\n",
    "        elif escolha=='3':\n",
    "            visualizar_contatos(contatos)\n",
    "            print(f'Pressione enter para continuar')\n",
    "            input()\n",
    "        \n",
    "        elif escolha == '4':\n",
    "            nome_pesquisa = input(\"Digite o nome do contato para pesquisar:\")\n",
    "            pesquisar_contatos(contatos, nome_pesquisa)\n",
    "            input()\n",
    "            print(\"Pressione enter para continuar\")\n",
    "            input()\n",
    "\n",
    "        elif escolha=='5':\n",
    "            if nome_arquivo is None:\n",
    "                nome_arquivo = input('Insira o nome do arquivo para salvar:')\n",
    "            if not nome_arquivo.endswith(\".json\"):\n",
    "                nome_arquivo += '.json'\n",
    "            salvar_lista_contatos(contatos, nome_arquivo)\n",
    "            print(f\"Lista salva como {nome_arquivo} com sucesso!\")\n",
    "            time.sleep(2)\n",
    "            break\n",
    "\n",
    "        elif escolha=='6':\n",
    "            print('Voltando ao menu principal!')\n",
    "            time.sleep(1)\n",
    "            break\n",
    "\n",
    "        else:\n",
    "            print('Insira uma opção válida!')\n",
    "            time.sleep(1)"
   ]
  },
  {
   "cell_type": "markdown",
   "id": "edfb1aa1",
   "metadata": {},
   "source": [
    "10. Função: main() – Menu Principal"
   ]
  },
  {
   "cell_type": "code",
   "execution_count": null,
   "id": "3f5dfde9",
   "metadata": {},
   "outputs": [],
   "source": [
    "def main():\n",
    "    while True:\n",
    "        os.system(\"cls\" if os.name == 'nt' else \"clear\")\n",
    "        print(\"\"\"- 1 Criar uma nova lista de contatos\n",
    "- 2 Carregar uma lista de contatos existente\n",
    "- 3 Sair\"\"\")\n",
    "        escolha = input('- Escolha uma opção : ')\n",
    "        if easter_egg(escolha):\n",
    "            continue\n",
    "\n",
    "        if escolha == '1':\n",
    "            contatos = {}\n",
    "            gerenciar_contatos(contatos)\n",
    "            print(\"Pressione enter para  continuar\")\n",
    "            input()\n",
    "\n",
    "        elif escolha == '2':\n",
    "            print(\"Listas Disponiveis:\")\n",
    "            arquivos = [arquivo for arquivo in os.listdir() if arquivo.endswith(\".json\")]\n",
    "            if not arquivos:\n",
    "                print('Nenhuma lista encontrada!')\n",
    "                time.sleep(3)\n",
    "                continue\n",
    "            for i, arquivo in enumerate(arquivos, 1):\n",
    "                print(f\"{i} {arquivo}\")\n",
    "            escolha = int(input(\"Escolha uma lista de contatos para carregar (0 se nenhuma): \"))\n",
    "            if escolha == 0:\n",
    "                continue\n",
    "            if escolha < 0 or escolha > len(arquivos):\n",
    "                print('Insira uma opção válida!')\n",
    "                time.sleep(1)\n",
    "                continue\n",
    "            contatos = carregar_lista_contatos(arquivos[escolha-1])\n",
    "            gerenciar_contatos(contatos, arquivos[escolha-1])\n",
    "\n",
    "        elif escolha == '3':\n",
    "            print('Encerrando programa em:')\n",
    "            print('3')\n",
    "            time.sleep(1)\n",
    "            print('2')\n",
    "            time.sleep(1)\n",
    "            print('1')\n",
    "            time.sleep(1)\n",
    "            print('Programa encerrado!')\n",
    "            break\n",
    "        else:\n",
    "            print('Insira uma opção válida!')\n",
    "            time.sleep(1)"
   ]
  },
  {
   "cell_type": "markdown",
   "id": "b6fd5ea1",
   "metadata": {},
   "source": [
    "### ✅ Execução"
   ]
  },
  {
   "cell_type": "markdown",
   "id": "db4b71e5",
   "metadata": {},
   "source": [
    "11. Executar o Programa"
   ]
  },
  {
   "cell_type": "code",
   "execution_count": null,
   "id": "da65bb14",
   "metadata": {},
   "outputs": [],
   "source": [
    "if __name__ == \"__main__\":\n",
    "    main()"
   ]
  }
 ],
 "metadata": {
  "kernelspec": {
   "display_name": "Python 3",
   "language": "python",
   "name": "python3"
  },
  "language_info": {
   "codemirror_mode": {
    "name": "ipython",
    "version": 3
   },
   "file_extension": ".py",
   "mimetype": "text/x-python",
   "name": "python",
   "nbconvert_exporter": "python",
   "pygments_lexer": "ipython3",
   "version": "3.12.3"
  }
 },
 "nbformat": 4,
 "nbformat_minor": 5
}
